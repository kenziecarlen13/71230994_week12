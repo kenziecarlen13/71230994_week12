{
 "cells": [
  {
   "cell_type": "code",
   "execution_count": 1,
   "metadata": {},
   "outputs": [
    {
     "name": "stdout",
     "output_type": "stream",
     "text": [
      "True\n",
      "False\n",
      "False\n",
      "True\n",
      "False\n"
     ]
    }
   ],
   "source": [
    "#nomor 1\n",
    "def isi_sama(a):\n",
    "\n",
    "    cek = True\n",
    "    for i in range(0, len(a) - 1):\n",
    "        if a[i] != a[i + 1]:\n",
    "            cek = False\n",
    "            break\n",
    "        else:\n",
    "            continue\n",
    "    print(cek)\n",
    "\n",
    "isi_sama(a = (90, 90, 90, 90))\n",
    "isi_sama(a = (70, 80, 90))\n",
    "isi_sama(a = (1,2,3,4,5,6,7,8,9))\n",
    "isi_sama(a = (\"kambing\", \"kambing\", \"kambing\"))\n",
    "isi_sama(a = (\"kambing\", \"KAMBING\")) \n",
    "# silahkan tambahkan test casenya :D"
   ]
  },
  {
   "cell_type": "code",
   "execution_count": 10,
   "metadata": {},
   "outputs": [
    {
     "name": "stdout",
     "output_type": "stream",
     "text": [
      "\n",
      "NIM : 71230994\n",
      "NAMA : Putu Gde Kenzie Carlen Mataram\n",
      "ALAMAT : Isekai, Cabang Garut\n",
      "NIM: ('7', '1', '2', '3', '0', '9', '9', '4')\n",
      "NAMA DEPAN: ('u', 't', 'u')\n",
      "NAMA TERBALIK: ('Mataram', 'Carlen', 'Kenzie', 'Gde', 'Putu')\n",
      "\n",
      "NIM : 71230986\n",
      "NAMA : Ivan Roberto Halim\n",
      "ALAMAT : Gunung Myoboku, Konoha\n",
      "NIM: ('7', '1', '2', '3', '0', '9', '8', '6')\n",
      "NAMA DEPAN: ('v', 'a', 'n')\n",
      "NAMA TERBALIK: ('Halim', 'Roberto', 'Ivan')\n",
      "\n",
      "NIM : 71230984\t\n",
      "NAMA : Benyamin Prasetya Putra Ramayana\n",
      "ALAMAT : Kota Gotham\n",
      "NIM: ('7', '1', '2', '3', '0', '9', '8', '4', '\\t')\n",
      "NAMA DEPAN: ('e', 'n', 'y', 'a', 'm', 'i', 'n')\n",
      "NAMA TERBALIK: ('Ramayana', 'Putra', 'Prasetya', 'Benyamin')\n",
      "\n",
      "NIM : 71231018\n",
      "NAMA : Bernadus Xaverius Hitipeuw\n",
      "ALAMAT : Wawiwu City\n",
      "NIM: ('7', '1', '2', '3', '1', '0', '1', '8')\n",
      "NAMA DEPAN: ('e', 'r', 'n', 'a', 'd', 'u', 's')\n",
      "NAMA TERBALIK: ('Hitipeuw', 'Xaverius', 'Bernadus')\n",
      "\n",
      "NIM : 71231023\n",
      "NAMA : Yehezkiel Darren Putra Wardoyo\n",
      "ALAMAT : Jl. hokhok\n",
      "NIM: ('7', '1', '2', '3', '1', '0', '2', '3')\n",
      "NAMA DEPAN: ('e', 'h', 'e', 'z', 'k', 'i', 'e', 'l')\n",
      "NAMA TERBALIK: ('Wardoyo', 'Putra', 'Darren', 'Yehezkiel')\n"
     ]
    }
   ],
   "source": [
    "#nomor 2\n",
    "def isi_data(data_diri):\n",
    "    print()\n",
    "    print(\"NIM :\", data_diri[1])\n",
    "    print(\"NAMA :\", data_diri[0])\n",
    "    print(\"ALAMAT :\", data_diri[2])\n",
    "    nim_tuple = tuple(data_diri[1])\n",
    "    print(\"NIM:\", nim_tuple)\n",
    "    nama_depan = data_diri[0].split()[0]\n",
    "    nama_depan = nama_depan[1:]  \n",
    "    nama_depan_tuple = tuple(nama_depan)\n",
    "    print(\"NAMA DEPAN:\", nama_depan_tuple)\n",
    "    nama_terbalik_tuple = tuple(data_diri[0].split()[::-1])\n",
    "    print(\"NAMA TERBALIK:\", nama_terbalik_tuple)\n",
    "    \n",
    "isi_data(data_diri = ('Putu Gde Kenzie Carlen Mataram', '71230994', 'Isekai, Cabang Garut'))\n",
    "isi_data(data_diri = ('Ivan Roberto Halim', '71230986', 'Gunung Myoboku, Konoha'))\n",
    "isi_data(data_diri = ('Benyamin Prasetya Putra Ramayana', '71230984\t', 'Kota Gotham'))\n",
    "isi_data(data_diri = ('Bernadus Xaverius Hitipeuw', '71231018', 'Wawiwu City'))\n",
    "isi_data(data_diri = ('Yehezkiel Darren Putra Wardoyo', '71231023', 'Jl. hokhok'))"
   ]
  },
  {
   "cell_type": "code",
   "execution_count": 13,
   "metadata": {},
   "outputs": [
    {
     "name": "stdout",
     "output_type": "stream",
     "text": [
      "04 3\n",
      "06 1\n",
      "07 1\n",
      "09 2\n",
      "10 3\n",
      "11 6\n",
      "14 1\n",
      "15 2\n",
      "16 4\n",
      "17 2\n",
      "18 1\n",
      "19 1\n"
     ]
    }
   ],
   "source": [
    "#nomor 3\n",
    "while True:\n",
    "    fname = input('Nama File: ')\n",
    "    try:\n",
    "        fhand = open(fname)\n",
    "        break\n",
    "    except FileNotFoundError:\n",
    "        print('File tidak ditemukan. Masukkan nama file dengan benar.')\n",
    "dic_waktu = dict()\n",
    "lst = list()\n",
    "for line in fhand:\n",
    "    if line.startswith('From '):\n",
    "        words = line.split()\n",
    "        waktu = words[5]\n",
    "        jam = waktu.split(':')[0]\n",
    "        if jam in dic_waktu:\n",
    "            dic_waktu[jam] += 1\n",
    "        else:\n",
    "            dic_waktu[jam] = 1\n",
    "for key, value in dic_waktu.items():\n",
    "    lst.append((key, value))\n",
    "lst.sort()\n",
    "for key, value in lst:\n",
    "    print(key, value)\n"
   ]
  }
 ],
 "metadata": {
  "kernelspec": {
   "display_name": "base",
   "language": "python",
   "name": "python3"
  },
  "language_info": {
   "codemirror_mode": {
    "name": "ipython",
    "version": 3
   },
   "file_extension": ".py",
   "mimetype": "text/x-python",
   "name": "python",
   "nbconvert_exporter": "python",
   "pygments_lexer": "ipython3",
   "version": "3.11.5"
  }
 },
 "nbformat": 4,
 "nbformat_minor": 2
}
